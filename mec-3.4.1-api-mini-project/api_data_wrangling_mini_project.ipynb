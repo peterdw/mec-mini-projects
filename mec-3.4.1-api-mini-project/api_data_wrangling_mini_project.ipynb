{
 "cells": [
  {
   "cell_type": "markdown",
   "metadata": {},
   "source": [
    "This exercise will require you to pull some data from https://data.nasdaq.com/ (formerly Quandl API)."
   ]
  },
  {
   "cell_type": "markdown",
   "metadata": {},
   "source": [
    "As a first step, you will need to register a free account on the https://data.nasdaq.com/ website."
   ]
  },
  {
   "cell_type": "markdown",
   "metadata": {},
   "source": [
    "After you register, you will be provided with a unique API key, that you should store:\n",
    "\n",
    "*Note*: Use a `.env` file and put your key in there and `python-dotenv` to access it in this notebook. \n",
    "\n",
    "The code below uses a key that was used when generating this project but has since been deleted. Never submit your keys to source control. There is a `.env-example` file in this repository to illusrtate what you need. Copy that to a file called `.env` and use your own api key in that `.env` file. Make sure you also have a `.gitignore` file with a line for `.env` added to it. \n",
    "\n",
    "The standard Python gitignore is [here](https://github.com/github/gitignore/blob/master/Python.gitignore) you can just copy that. "
   ]
  },
  {
   "cell_type": "code",
   "execution_count": 89,
   "metadata": {},
   "outputs": [],
   "source": [
    "# get api key from your .env file\n",
    "import os\n",
    "from dotenv import load_dotenv  # if missing this module, simply run `pip install python-dotenv`\n",
    "\n",
    "load_dotenv()\n",
    "API_KEY = os.getenv('NASDAQ_API_KEY')\n",
    "\n",
    "#print(API_KEY)"
   ]
  },
  {
   "cell_type": "markdown",
   "metadata": {},
   "source": [
    "Nasdaq Data has a large number of data sources, but, unfortunately, most of them require a Premium subscription. Still, there are also a good number of free datasets."
   ]
  },
  {
   "cell_type": "markdown",
   "metadata": {},
   "source": [
    "For this mini project, we will focus on equities data from the Frankfurt Stock Exhange (FSE), which is available for free. We'll try and analyze the stock prices of a company called Carl Zeiss Meditec, which manufactures tools for eye examinations, as well as medical lasers for laser eye surgery: https://www.zeiss.com/meditec/int/home.html. The company is listed under the stock ticker AFX_X."
   ]
  },
  {
   "cell_type": "markdown",
   "metadata": {},
   "source": [
    "You can find the detailed Nasdaq Data API instructions here: https://docs.data.nasdaq.com/docs/in-depth-usage"
   ]
  },
  {
   "cell_type": "markdown",
   "metadata": {},
   "source": [
    "While there is a dedicated Python package for connecting to the Nasdaq API, we would prefer that you use the *requests* package, which can be easily downloaded using *pip* or *conda*. You can find the documentation for the package here: http://docs.python-requests.org/en/master/ "
   ]
  },
  {
   "cell_type": "markdown",
   "metadata": {},
   "source": [
    "Finally, apart from the *requests* package, you are encouraged to not use any third party Python packages, such as *pandas*, and instead focus on what's available in the Python Standard Library (the *collections* module might come in handy: https://pymotw.com/3/collections/).\n",
    "Also, since you won't have access to DataFrames, you are encouraged to us Python's native data structures - preferably dictionaries, though some questions can also be answered using lists.\n",
    "You can read more on these data structures here: https://docs.python.org/3/tutorial/datastructures.html"
   ]
  },
  {
   "cell_type": "markdown",
   "metadata": {},
   "source": [
    "Keep in mind that the JSON responses you will be getting from the API map almost one-to-one to Python's dictionaries. Unfortunately, they can be very nested, so make sure you read up on indexing dictionaries in the documentation provided above."
   ]
  },
  {
   "cell_type": "code",
   "execution_count": 90,
   "metadata": {},
   "outputs": [],
   "source": [
    "# First, import the relevant modules\n",
    "import requests"
   ]
  },
  {
   "cell_type": "markdown",
   "metadata": {},
   "source": [
    "Note: API's can change a bit with each version, for this exercise it is reccomended to use the nasdaq api at `https://data.nasdaq.com/api/v3/`. This is the same api as what used to be quandl so `https://www.quandl.com/api/v3/` should work too.\n",
    "\n",
    "Hint: We are looking for the `AFX_X` data on the `datasets/FSE/` dataset."
   ]
  },
  {
   "cell_type": "code",
   "execution_count": 120,
   "metadata": {},
   "outputs": [],
   "source": [
    "# Now, call the Nasdaq API and pull out a small sample of the data (only one day) to get a glimpse\n",
    "# into the JSON structure that will be returned\n",
    "database_code='FSE'\n",
    "dataset_code='AFX_X'\n",
    "start_date='2017-1-1'\n",
    "end_date='2017-12-31'\n",
    "url = f'https://data.nasdaq.com/api/v3/datasets/{database_code}/{dataset_code}/data.json?api_key={API_KEY}&start_date={start_date}&end_date={end_date}'\n",
    "response = requests.get(url)\n",
    "\n",
    "if response.status_code == 200:\n",
    "    data = response.json()\n",
    "else:\n",
    "    print(f\"Error: {response.status_code}\")"
   ]
  },
  {
   "cell_type": "code",
   "execution_count": 121,
   "metadata": {},
   "outputs": [],
   "source": [
    "# Inspect the JSON structure of the object you created, and take note of how nested it is,\n",
    "# as well as the overall structure"
   ]
  },
  {
   "cell_type": "markdown",
   "metadata": {},
   "source": [
    "These are your tasks for this mini project:\n",
    "\n",
    "1. Collect data from the Franfurt Stock Exchange, for the ticker AFX_X, for the whole year 2017 (keep in mind that the date format is YYYY-MM-DD).\n",
    "2. Convert the returned JSON object into a Python dictionary.\n",
    "3. Calculate what the highest and lowest opening prices were for the stock in this period.\n",
    "4. What was the largest change in any one day (based on High and Low price)?\n",
    "5. What was the largest change between any two days (based on Closing Price)?\n",
    "6. What was the average daily trading volume during this year?\n",
    "7. (Optional) What was the median trading volume during this year. (Note: you may need to implement your own function for calculating the median.)"
   ]
  },
  {
   "cell_type": "code",
   "execution_count": 122,
   "metadata": {},
   "outputs": [],
   "source": [
    "# 2 - function to convert the returned JSON object into a Python dictionary.\n",
    "def convert_data_to_dictionary(json_data):\n",
    "    data_dict = {}\n",
    "\n",
    "    if \"dataset_data\" in json_data and \"data\" in json_data[\"dataset_data\"]:\n",
    "        data = json_data[\"dataset_data\"][\"data\"]\n",
    "        column_names = json_data[\"dataset_data\"][\"column_names\"]\n",
    "        # Only need some columns to meet the task goals (left out 'Turnover', 'Last Price of the Day', 'Daily Traded Units', 'Daily Turnover')\n",
    "        value_indices = [column_names.index(column) for column in [\"Open\", \"High\", \"Low\", \"Close\", \"Change\", \"Traded Volume\"]]\n",
    "\n",
    "        for entry in data:\n",
    "            # create the Date key of the dictionary entry\n",
    "            date = entry[0]\n",
    "            # create the value of the dictionary entry\n",
    "            entry_dict = {column_names[i]: entry[i] for i in value_indices}\n",
    "            data_dict[date] = entry_dict\n",
    "\n",
    "    return data_dict"
   ]
  },
  {
   "cell_type": "code",
   "execution_count": 123,
   "metadata": {},
   "outputs": [],
   "source": [
    "# 3 - function to calculate what the highest and lowest opening prices were for the stock in this period.\n",
    "def calculate_highest_lowest_opening_prices(data_dictionary):\n",
    "    if not data_dictionary:\n",
    "        return None, None\n",
    "\n",
    "    opening_prices = [entry[\"Open\"] for entry in data_dictionary.values() if \"Open\" in entry and entry[\"Open\"] is not None]\n",
    "    \n",
    "    if opening_prices:\n",
    "        highest_opening_price = max(opening_prices)\n",
    "        lowest_opening_price = min(opening_prices)\n",
    "        return highest_opening_price, lowest_opening_price\n",
    "    else:\n",
    "        return None, None\n"
   ]
  },
  {
   "cell_type": "code",
   "execution_count": 124,
   "metadata": {},
   "outputs": [],
   "source": [
    "# 4 - function to calculate the largest change in any one day (based on High and Low price)\n",
    "def calculate_largest_change(data_dictionary):\n",
    "    if not data_dictionary:\n",
    "        return None\n",
    "    \n",
    "    valid_changes = [entry[\"High\"] - entry[\"Low\"] for entry in data_dictionary.values() if \"High\" in entry and \"Low\" in entry and entry[\"High\"] is not None and entry[\"Low\"] is not None]\n",
    "    \n",
    "    if not valid_changes:\n",
    "        return None\n",
    "    \n",
    "    largest_change = max(valid_changes)\n",
    "    return round(largest_change, 2)"
   ]
  },
  {
   "cell_type": "code",
   "execution_count": 125,
   "metadata": {},
   "outputs": [],
   "source": [
    "# 5 - function to calculate the largest change between any two days (based on Closing Price)\n",
    "def calculate_largest_closing_change(data_dictionary):\n",
    "    if not data_dictionary:\n",
    "        return None\n",
    "    \n",
    "    closing_prices = [entry[\"Close\"] for entry in data_dictionary.values() if \"Close\" in entry and entry[\"Close\"] is not None]\n",
    "    \n",
    "    if len(closing_prices) <= 1:\n",
    "        return None\n",
    "    \n",
    "    largest_change = max([abs(closing_prices[i] - closing_prices[i+1]) for i in range(len(closing_prices)-1)])\n",
    "    return round(largest_change, 2)"
   ]
  },
  {
   "cell_type": "code",
   "execution_count": 126,
   "metadata": {},
   "outputs": [],
   "source": [
    "# 6 - function to calculate the average daily trading volume\n",
    "def calculate_average_trading_volume(data_dictionary):\n",
    "    if not data_dictionary:\n",
    "        return None\n",
    "    \n",
    "    trading_volumes = [entry[\"Traded Volume\"] for entry in data_dictionary.values() if \"Traded Volume\" in entry and entry[\"Traded Volume\"] is not None]\n",
    "\n",
    "    if not trading_volumes:\n",
    "        return None\n",
    "    \n",
    "    average_volume = sum(trading_volumes) / len(trading_volumes)\n",
    "    return int(average_volume)"
   ]
  },
  {
   "cell_type": "code",
   "execution_count": 129,
   "metadata": {},
   "outputs": [],
   "source": [
    "# 7 - function to calculate the median trade volume\n",
    "def calculate_median_trading_volume(data_dictionary):\n",
    "    trading_volumes = [entry[\"Traded Volume\"] for entry in data_dictionary.values() if \"Traded Volume\" in entry and entry[\"Traded Volume\"] is not None]\n",
    "    trading_volumes.sort()\n",
    "    num_volumes = len(trading_volumes)\n",
    "    \n",
    "    if num_volumes == 0:\n",
    "        return None\n",
    "\n",
    "    # if the total trade volumes is ODD then take the middle value\n",
    "    if num_volumes % 2 == 1:\n",
    "        median_volume = trading_volumes[num_volumes // 2]\n",
    "    \n",
    "    # if the total trade volumes is EVEN then take the average of the two middle values\n",
    "    else:\n",
    "        middle_indices = [num_volumes // 2 - 1, num_volumes // 2]\n",
    "        median_volume = sum(trading_volumes[index] for index in middle_indices) / 2\n",
    "\n",
    "    return int(median_volume)"
   ]
  },
  {
   "cell_type": "code",
   "execution_count": 130,
   "metadata": {},
   "outputs": [
    {
     "name": "stdout",
     "output_type": "stream",
     "text": [
      "Highest Opening Price: 53.11\n",
      "Lowest Opening Price: 34.0\n",
      "Largest Change in One Day: 2.81\n",
      "Largest Change in Closing Price: 2.56\n",
      "Average Daily Trading Volume: 89124\n",
      "Median Trading Volume: 76286\n"
     ]
    }
   ],
   "source": [
    "data_dictionary = convert_data_to_dictionary(data)\n",
    "# data_dictionary sample\n",
    "# {'2017-12-29': {'Open': 51.76, 'High': 51.94, 'Low': 51.45, 'Close': 51.76, 'Change': None, 'Traded Volume': 34640.0},\n",
    "#  '2017-12-28': {'Open': 51.65, 'High': 51.82, 'Low': 51.43, 'Close': 51.6, 'Change': None, 'Traded Volume': 40660.0}, \n",
    "# ...\n",
    "\n",
    "# 3 - highest - lowest opening price\n",
    "highest_opening, lowest_opening = calculate_highest_lowest_opening_prices(data_dictionary)\n",
    "if highest_opening is not None and lowest_opening is not None:\n",
    "    print(\"Highest Opening Price:\", highest_opening)\n",
    "    print(\"Lowest Opening Price:\", lowest_opening)\n",
    "else:\n",
    "    print(\"No valid opening prices found.\")\n",
    "\n",
    "# 4 - largest change\n",
    "largest_change = calculate_largest_change(data_dictionary)\n",
    "if largest_change is not None:\n",
    "    print(\"Largest Change in One Day:\", largest_change)\n",
    "else:\n",
    "    print(\"No valid data found for calculating largest change.\")\n",
    "    \n",
    "# 5 - largest closing change\n",
    "largest_closing_change = calculate_largest_closing_change(data_dictionary)\n",
    "if largest_closing_change is not None:\n",
    "    print(\"Largest Change in Closing Price:\", largest_closing_change)\n",
    "else:\n",
    "    print(\"No valid data found for calculating largest closing change.\")\n",
    "\n",
    "# 6 - average trading volume\n",
    "average_trading_volume = calculate_average_trading_volume(data_dictionary)\n",
    "if average_trading_volume is not None:\n",
    "    print(\"Average Daily Trading Volume:\", average_trading_volume)\n",
    "else:\n",
    "    print(\"No valid trading volume data found.\")\n",
    "\n",
    "# 7 - median\n",
    "median_trading_volume = calculate_median_trading_volume(data_dictionary)\n",
    "if median_trading_volume is not None:\n",
    "    print(\"Median Trading Volume:\", median_trading_volume)\n",
    "else:\n",
    "    print(\"No valid trading volume data found.\")"
   ]
  },
  {
   "cell_type": "code",
   "execution_count": null,
   "metadata": {},
   "outputs": [],
   "source": []
  }
 ],
 "metadata": {
  "interpreter": {
   "hash": "4885f37acae9217c235118400878352aafa7b76e66df698a1f601374f86939a7"
  },
  "kernelspec": {
   "display_name": "Python 3 (ipykernel)",
   "language": "python",
   "name": "python3"
  },
  "language_info": {
   "codemirror_mode": {
    "name": "ipython",
    "version": 3
   },
   "file_extension": ".py",
   "mimetype": "text/x-python",
   "name": "python",
   "nbconvert_exporter": "python",
   "pygments_lexer": "ipython3",
   "version": "3.11.4"
  }
 },
 "nbformat": 4,
 "nbformat_minor": 4
}
