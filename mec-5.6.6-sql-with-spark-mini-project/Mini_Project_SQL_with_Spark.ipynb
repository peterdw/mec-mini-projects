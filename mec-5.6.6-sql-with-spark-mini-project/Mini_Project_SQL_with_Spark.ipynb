{
 "cells": [
  {
   "cell_type": "markdown",
   "metadata": {
    "application/vnd.databricks.v1+cell": {
     "cellMetadata": {},
     "inputWidgets": {},
     "nuid": "b0efc258-29fb-4f20-ab28-b375d85a435e",
     "showTitle": false,
     "title": ""
    }
   },
   "source": [
    "## SQL at Scale with Spark SQL\n",
    "\n",
    "Welcome to the SQL mini project. For this project, you will use the Databricks Platform and work through a series of exercises using Spark SQL. The dataset size may not be too big but the intent here is to familiarize yourself with the Spark SQL interface which scales easily to huge datasets, without you having to worry about changing your SQL queries. \n",
    "\n",
    "The data you need is present in the mini-project folder in the form of three CSV files. This data will be imported in Databricks to create the following tables under the __`country_club`__ database.\n",
    "\n",
    "<br>\n",
    "1. The __`bookings`__ table,\n",
    "2. The __`facilities`__ table, and\n",
    "3. The __`members`__ table.\n",
    "\n",
    "You will be uploading these datasets shortly into the Databricks platform to understand how to create a database within minutes! Once the database and the tables are populated, you will be focusing on the mini-project questions.\n",
    "\n",
    "In the mini project, you'll be asked a series of questions. You can solve them using the databricks platform, but for the final deliverable,\n",
    "please download this notebook as an IPython notebook (__`File -> Export -> IPython Notebook`__) and upload it to your GitHub."
   ]
  },
  {
   "cell_type": "markdown",
   "metadata": {
    "application/vnd.databricks.v1+cell": {
     "cellMetadata": {},
     "inputWidgets": {},
     "nuid": "2efc54c6-3731-4aa3-bc44-eaa514924ffc",
     "showTitle": false,
     "title": ""
    }
   },
   "source": [
    "### Creating the Database\n",
    "\n",
    "We will first create our database in which we will be creating our three tables of interest"
   ]
  },
  {
   "cell_type": "code",
   "execution_count": 0,
   "metadata": {
    "application/vnd.databricks.v1+cell": {
     "cellMetadata": {
      "byteLimit": 2048000,
      "implicitDf": true,
      "rowLimit": 10000
     },
     "inputWidgets": {},
     "nuid": "d51f3467-b07e-4787-a922-f969ea166ccc",
     "showTitle": false,
     "title": ""
    }
   },
   "outputs": [
    {
     "output_type": "display_data",
     "data": {
      "text/html": [
       "<style scoped>\n",
       "  .table-result-container {\n",
       "    max-height: 300px;\n",
       "    overflow: auto;\n",
       "  }\n",
       "  table, th, td {\n",
       "    border: 1px solid black;\n",
       "    border-collapse: collapse;\n",
       "  }\n",
       "  th, td {\n",
       "    padding: 5px;\n",
       "  }\n",
       "  th {\n",
       "    text-align: left;\n",
       "  }\n",
       "</style><div class='table-result-container'><table class='table-result'><thead style='background-color: white'><tr><th>databaseName</th></tr></thead><tbody><tr><td>country_club</td></tr><tr><td>default</td></tr></tbody></table></div>"
      ]
     },
     "metadata": {
      "application/vnd.databricks.v1+output": {
       "addedWidgets": {},
       "aggData": [],
       "aggError": "",
       "aggOverflow": false,
       "aggSchema": [],
       "aggSeriesLimitReached": false,
       "aggType": "",
       "arguments": {},
       "columnCustomDisplayInfos": {},
       "data": [
        [
         "country_club"
        ],
        [
         "default"
        ]
       ],
       "datasetInfos": [],
       "dbfsResultPath": null,
       "isJsonSchema": true,
       "metadata": {},
       "overflow": false,
       "plotOptions": {
        "customPlotOptions": {},
        "displayType": "table",
        "pivotAggregation": null,
        "pivotColumns": null,
        "xColumns": null,
        "yColumns": null
       },
       "removedWidgets": [],
       "schema": [
        {
         "metadata": "{}",
         "name": "databaseName",
         "type": "\"string\""
        }
       ],
       "type": "table"
      }
     },
     "output_type": "display_data"
    }
   ],
   "source": [
    "%sql \n",
    "drop database if exists country_club cascade;\n",
    "create database country_club;\n",
    "show databases;"
   ]
  },
  {
   "cell_type": "markdown",
   "metadata": {
    "application/vnd.databricks.v1+cell": {
     "cellMetadata": {},
     "inputWidgets": {},
     "nuid": "b4bf9456-697d-4420-baf3-f90dd907ea12",
     "showTitle": false,
     "title": ""
    }
   },
   "source": [
    "### Creating the Tables\n",
    "\n",
    "In this section, we will be creating the three tables of interest and populate them with the data from the CSV files already available to you. \n",
    "To get started, first upload the three CSV files to the DBFS as depicted in the following figure\n",
    "\n",
    "![](https://i.imgur.com/QcCruBr.png)\n",
    "\n",
    "\n",
    "Once you have done this, please remember to execute the following code to build the dataframes which will be saved as tables in our database"
   ]
  },
  {
   "cell_type": "code",
   "execution_count": 0,
   "metadata": {
    "application/vnd.databricks.v1+cell": {
     "cellMetadata": {
      "byteLimit": 2048000,
      "rowLimit": 10000
     },
     "inputWidgets": {},
     "nuid": "05228856-b8e8-46c6-865b-c8758acef344",
     "showTitle": false,
     "title": ""
    }
   },
   "outputs": [
    {
     "output_type": "stream",
     "name": "stdout",
     "output_type": "stream",
     "text": [
      "Out[32]: [FileInfo(path='dbfs:/FileStore/tables/Bookings.csv', name='Bookings.csv', size=170118, modificationTime=1693551213000),\n FileInfo(path='dbfs:/FileStore/tables/Facilities.csv', name='Facilities.csv', size=494, modificationTime=1693551212000),\n FileInfo(path='dbfs:/FileStore/tables/Members.csv', name='Members.csv', size=3313, modificationTime=1693551212000)]"
     ]
    }
   ],
   "source": [
    "dbutils.fs.ls(\"/FileStore/tables\")"
   ]
  },
  {
   "cell_type": "code",
   "execution_count": 0,
   "metadata": {
    "application/vnd.databricks.v1+cell": {
     "cellMetadata": {
      "byteLimit": 2048000,
      "rowLimit": 10000
     },
     "inputWidgets": {},
     "nuid": "26b7677d-74e2-4577-9d0e-c3132c1d679c",
     "showTitle": false,
     "title": ""
    }
   },
   "outputs": [],
   "source": [
    "# File location and type\n",
    "file_location_bookings = \"/FileStore/tables/Bookings.csv\"\n",
    "file_location_facilities = \"/FileStore/tables/Facilities.csv\"\n",
    "file_location_members = \"/FileStore/tables/Members.csv\"\n",
    "\n",
    "file_type = \"csv\"\n",
    "\n",
    "# CSV options\n",
    "infer_schema = \"true\"\n",
    "first_row_is_header = \"true\"\n",
    "delimiter = \",\"\n",
    "\n",
    "# The applied options are for CSV files. For other file types, these will be ignored.\n",
    "bookings_df = (spark.read.format(file_type) \n",
    "                    .option(\"inferSchema\", infer_schema) \n",
    "                    .option(\"header\", first_row_is_header) \n",
    "                    .option(\"sep\", delimiter) \n",
    "                    .load(file_location_bookings))\n",
    "\n",
    "facilities_df = (spark.read.format(file_type) \n",
    "                      .option(\"inferSchema\", infer_schema) \n",
    "                      .option(\"header\", first_row_is_header) \n",
    "                      .option(\"sep\", delimiter) \n",
    "                      .load(file_location_facilities))\n",
    "\n",
    "members_df = (spark.read.format(file_type) \n",
    "                      .option(\"inferSchema\", infer_schema) \n",
    "                      .option(\"header\", first_row_is_header) \n",
    "                      .option(\"sep\", delimiter) \n",
    "                      .load(file_location_members))"
   ]
  },
  {
   "cell_type": "markdown",
   "metadata": {
    "application/vnd.databricks.v1+cell": {
     "cellMetadata": {},
     "inputWidgets": {},
     "nuid": "f8649f75-08e8-42b2-86ca-65947371578a",
     "showTitle": false,
     "title": ""
    }
   },
   "source": [
    "### Viewing the dataframe schemas\n",
    "\n",
    "We can take a look at the schemas of our potential tables to be written to our database soon"
   ]
  },
  {
   "cell_type": "code",
   "execution_count": 0,
   "metadata": {
    "application/vnd.databricks.v1+cell": {
     "cellMetadata": {
      "byteLimit": 2048000,
      "rowLimit": 10000
     },
     "inputWidgets": {},
     "nuid": "c41fc5ee-c9e7-445c-8381-66c5fddf913a",
     "showTitle": false,
     "title": ""
    }
   },
   "outputs": [
    {
     "output_type": "stream",
     "name": "stdout",
     "output_type": "stream",
     "text": [
      "Bookings Schema\nroot\n |-- bookid: integer (nullable = true)\n |-- facid: integer (nullable = true)\n |-- memid: integer (nullable = true)\n |-- starttime: timestamp (nullable = true)\n |-- slots: integer (nullable = true)\n\nFacilities Schema\nroot\n |-- facid: integer (nullable = true)\n |-- name: string (nullable = true)\n |-- membercost: double (nullable = true)\n |-- guestcost: double (nullable = true)\n |-- initialoutlay: integer (nullable = true)\n |-- monthlymaintenance: integer (nullable = true)\n\nMembers Schema\nroot\n |-- memid: integer (nullable = true)\n |-- surname: string (nullable = true)\n |-- firstname: string (nullable = true)\n |-- address: string (nullable = true)\n |-- zipcode: integer (nullable = true)\n |-- telephone: string (nullable = true)\n |-- recommendedby: integer (nullable = true)\n |-- joindate: timestamp (nullable = true)\n\n"
     ]
    }
   ],
   "source": [
    "print('Bookings Schema')\n",
    "bookings_df.printSchema()\n",
    "print('Facilities Schema')\n",
    "facilities_df.printSchema()\n",
    "print('Members Schema')\n",
    "members_df.printSchema()"
   ]
  },
  {
   "cell_type": "markdown",
   "metadata": {
    "application/vnd.databricks.v1+cell": {
     "cellMetadata": {},
     "inputWidgets": {},
     "nuid": "7c1ae7b4-48f2-4892-a6c0-c096e7f31ba7",
     "showTitle": false,
     "title": ""
    }
   },
   "source": [
    "### Create permanent tables\n",
    "We will be creating three permanent tables here in our __`country_club`__ database as we discussed previously with the following code"
   ]
  },
  {
   "cell_type": "code",
   "execution_count": 0,
   "metadata": {
    "application/vnd.databricks.v1+cell": {
     "cellMetadata": {
      "byteLimit": 2048000,
      "rowLimit": 10000
     },
     "inputWidgets": {},
     "nuid": "e8f3d8ff-8bd0-444a-854c-0b65487607a6",
     "showTitle": false,
     "title": ""
    }
   },
   "outputs": [],
   "source": [
    "permanent_table_name_bookings = \"country_club.Bookings\"\n",
    "bookings_df.write.format(\"parquet\").saveAsTable(permanent_table_name_bookings)\n",
    "\n",
    "permanent_table_name_facilities = \"country_club.Facilities\"\n",
    "facilities_df.write.format(\"parquet\").saveAsTable(permanent_table_name_facilities)\n",
    "\n",
    "permanent_table_name_members = \"country_club.Members\"\n",
    "members_df.write.format(\"parquet\").saveAsTable(permanent_table_name_members)"
   ]
  },
  {
   "cell_type": "markdown",
   "metadata": {
    "application/vnd.databricks.v1+cell": {
     "cellMetadata": {},
     "inputWidgets": {},
     "nuid": "78aa39e1-fdbe-447a-869b-da6192bc8ead",
     "showTitle": false,
     "title": ""
    }
   },
   "source": [
    "### Refresh tables and check them"
   ]
  },
  {
   "cell_type": "code",
   "execution_count": 0,
   "metadata": {
    "application/vnd.databricks.v1+cell": {
     "cellMetadata": {
      "byteLimit": 2048000,
      "implicitDf": true,
      "rowLimit": 10000
     },
     "inputWidgets": {},
     "nuid": "83fbab35-60a4-439a-ac46-0c89d36ecc57",
     "showTitle": false,
     "title": ""
    }
   },
   "outputs": [
    {
     "output_type": "display_data",
     "data": {
      "text/html": [
       "<style scoped>\n",
       "  .table-result-container {\n",
       "    max-height: 300px;\n",
       "    overflow: auto;\n",
       "  }\n",
       "  table, th, td {\n",
       "    border: 1px solid black;\n",
       "    border-collapse: collapse;\n",
       "  }\n",
       "  th, td {\n",
       "    padding: 5px;\n",
       "  }\n",
       "  th {\n",
       "    text-align: left;\n",
       "  }\n",
       "</style><div class='table-result-container'><table class='table-result'><thead style='background-color: white'><tr><th>database</th><th>tableName</th><th>isTemporary</th></tr></thead><tbody><tr><td>country_club</td><td>bookings</td><td>false</td></tr><tr><td>country_club</td><td>facilities</td><td>false</td></tr><tr><td>country_club</td><td>members</td><td>false</td></tr></tbody></table></div>"
      ]
     },
     "metadata": {
      "application/vnd.databricks.v1+output": {
       "addedWidgets": {},
       "aggData": [],
       "aggError": "",
       "aggOverflow": false,
       "aggSchema": [],
       "aggSeriesLimitReached": false,
       "aggType": "",
       "arguments": {},
       "columnCustomDisplayInfos": {},
       "data": [
        [
         "country_club",
         "bookings",
         false
        ],
        [
         "country_club",
         "facilities",
         false
        ],
        [
         "country_club",
         "members",
         false
        ]
       ],
       "datasetInfos": [],
       "dbfsResultPath": null,
       "isJsonSchema": true,
       "metadata": {},
       "overflow": false,
       "plotOptions": {
        "customPlotOptions": {},
        "displayType": "table",
        "pivotAggregation": null,
        "pivotColumns": null,
        "xColumns": null,
        "yColumns": null
       },
       "removedWidgets": [],
       "schema": [
        {
         "metadata": "{}",
         "name": "database",
         "type": "\"string\""
        },
        {
         "metadata": "{}",
         "name": "tableName",
         "type": "\"string\""
        },
        {
         "metadata": "{}",
         "name": "isTemporary",
         "type": "\"boolean\""
        }
       ],
       "type": "table"
      }
     },
     "output_type": "display_data"
    }
   ],
   "source": [
    "%sql\n",
    "use country_club;\n",
    "REFRESH table bookings;\n",
    "REFRESH table facilities;\n",
    "REFRESH table members;\n",
    "show tables;"
   ]
  },
  {
   "cell_type": "markdown",
   "metadata": {
    "application/vnd.databricks.v1+cell": {
     "cellMetadata": {},
     "inputWidgets": {},
     "nuid": "d920ec64-2a1c-4b41-b897-44155c1fc90c",
     "showTitle": false,
     "title": ""
    }
   },
   "source": [
    "### Test a sample SQL query\n",
    "\n",
    "__Note:__ You can use __`%sql`__ at the beginning of a cell and write SQL queries directly as seen in the following cell. Neat isn't it!"
   ]
  },
  {
   "cell_type": "code",
   "execution_count": 0,
   "metadata": {
    "application/vnd.databricks.v1+cell": {
     "cellMetadata": {
      "byteLimit": 2048000,
      "implicitDf": true,
      "rowLimit": 10000
     },
     "inputWidgets": {},
     "nuid": "db001560-bc73-4b02-83be-b516c638c38f",
     "showTitle": false,
     "title": ""
    }
   },
   "outputs": [
    {
     "output_type": "display_data",
     "data": {
      "text/html": [
       "<style scoped>\n",
       "  .table-result-container {\n",
       "    max-height: 300px;\n",
       "    overflow: auto;\n",
       "  }\n",
       "  table, th, td {\n",
       "    border: 1px solid black;\n",
       "    border-collapse: collapse;\n",
       "  }\n",
       "  th, td {\n",
       "    padding: 5px;\n",
       "  }\n",
       "  th {\n",
       "    text-align: left;\n",
       "  }\n",
       "</style><div class='table-result-container'><table class='table-result'><thead style='background-color: white'><tr><th>bookid</th><th>facid</th><th>memid</th><th>starttime</th><th>slots</th></tr></thead><tbody><tr><td>0</td><td>3</td><td>1</td><td>2012-07-03T11:00:00.000+0000</td><td>2</td></tr><tr><td>1</td><td>4</td><td>1</td><td>2012-07-03T08:00:00.000+0000</td><td>2</td></tr><tr><td>2</td><td>6</td><td>0</td><td>2012-07-03T18:00:00.000+0000</td><td>2</td></tr></tbody></table></div>"
      ]
     },
     "metadata": {
      "application/vnd.databricks.v1+output": {
       "addedWidgets": {},
       "aggData": [],
       "aggError": "",
       "aggOverflow": false,
       "aggSchema": [],
       "aggSeriesLimitReached": false,
       "aggType": "",
       "arguments": {},
       "columnCustomDisplayInfos": {},
       "data": [
        [
         0,
         3,
         1,
         "2012-07-03T11:00:00.000+0000",
         2
        ],
        [
         1,
         4,
         1,
         "2012-07-03T08:00:00.000+0000",
         2
        ],
        [
         2,
         6,
         0,
         "2012-07-03T18:00:00.000+0000",
         2
        ]
       ],
       "datasetInfos": [],
       "dbfsResultPath": null,
       "isJsonSchema": true,
       "metadata": {},
       "overflow": false,
       "plotOptions": {
        "customPlotOptions": {},
        "displayType": "table",
        "pivotAggregation": null,
        "pivotColumns": null,
        "xColumns": null,
        "yColumns": null
       },
       "removedWidgets": [],
       "schema": [
        {
         "metadata": "{}",
         "name": "bookid",
         "type": "\"integer\""
        },
        {
         "metadata": "{}",
         "name": "facid",
         "type": "\"integer\""
        },
        {
         "metadata": "{}",
         "name": "memid",
         "type": "\"integer\""
        },
        {
         "metadata": "{}",
         "name": "starttime",
         "type": "\"timestamp\""
        },
        {
         "metadata": "{}",
         "name": "slots",
         "type": "\"integer\""
        }
       ],
       "type": "table"
      }
     },
     "output_type": "display_data"
    }
   ],
   "source": [
    "%sql\n",
    "select * from bookings limit 3"
   ]
  },
  {
   "cell_type": "markdown",
   "metadata": {
    "application/vnd.databricks.v1+cell": {
     "cellMetadata": {},
     "inputWidgets": {},
     "nuid": "d9b87a04-f48c-4e30-85e1-8200eb03b9ab",
     "showTitle": false,
     "title": ""
    }
   },
   "source": [
    "#### Q1: Some of the facilities charge a fee to members, but some do not. Please list the names of the facilities that do."
   ]
  },
  {
   "cell_type": "code",
   "execution_count": 0,
   "metadata": {
    "application/vnd.databricks.v1+cell": {
     "cellMetadata": {
      "byteLimit": 2048000,
      "implicitDf": true,
      "rowLimit": 10000
     },
     "inputWidgets": {},
     "nuid": "89843766-61cd-43ec-b67d-6e1341110a05",
     "showTitle": false,
     "title": ""
    }
   },
   "outputs": [
    {
     "output_type": "display_data",
     "data": {
      "text/html": [
       "<style scoped>\n",
       "  .table-result-container {\n",
       "    max-height: 300px;\n",
       "    overflow: auto;\n",
       "  }\n",
       "  table, th, td {\n",
       "    border: 1px solid black;\n",
       "    border-collapse: collapse;\n",
       "  }\n",
       "  th, td {\n",
       "    padding: 5px;\n",
       "  }\n",
       "  th {\n",
       "    text-align: left;\n",
       "  }\n",
       "</style><div class='table-result-container'><table class='table-result'><thead style='background-color: white'><tr><th>name</th></tr></thead><tbody><tr><td>Tennis Court 1</td></tr><tr><td>Tennis Court 2</td></tr><tr><td>Massage Room 1</td></tr><tr><td>Massage Room 2</td></tr><tr><td>Squash Court</td></tr></tbody></table></div>"
      ]
     },
     "metadata": {
      "application/vnd.databricks.v1+output": {
       "addedWidgets": {},
       "aggData": [],
       "aggError": "",
       "aggOverflow": false,
       "aggSchema": [],
       "aggSeriesLimitReached": false,
       "aggType": "",
       "arguments": {},
       "columnCustomDisplayInfos": {},
       "data": [
        [
         "Tennis Court 1"
        ],
        [
         "Tennis Court 2"
        ],
        [
         "Massage Room 1"
        ],
        [
         "Massage Room 2"
        ],
        [
         "Squash Court"
        ]
       ],
       "datasetInfos": [],
       "dbfsResultPath": null,
       "isJsonSchema": true,
       "metadata": {},
       "overflow": false,
       "plotOptions": {
        "customPlotOptions": {},
        "displayType": "table",
        "pivotAggregation": null,
        "pivotColumns": null,
        "xColumns": null,
        "yColumns": null
       },
       "removedWidgets": [],
       "schema": [
        {
         "metadata": "{}",
         "name": "name",
         "type": "\"string\""
        }
       ],
       "type": "table"
      }
     },
     "output_type": "display_data"
    }
   ],
   "source": [
    "%sql\n",
    "SELECT name\n",
    "FROM Facilities\n",
    "WHERE membercost > 0"
   ]
  },
  {
   "cell_type": "markdown",
   "metadata": {
    "application/vnd.databricks.v1+cell": {
     "cellMetadata": {},
     "inputWidgets": {},
     "nuid": "25f4b04f-ed3d-4b82-9ee7-2d7bfbf431d2",
     "showTitle": false,
     "title": ""
    }
   },
   "source": [
    "####  Q2: How many facilities do not charge a fee to members?"
   ]
  },
  {
   "cell_type": "code",
   "execution_count": 0,
   "metadata": {
    "application/vnd.databricks.v1+cell": {
     "cellMetadata": {
      "byteLimit": 2048000,
      "implicitDf": true,
      "rowLimit": 10000
     },
     "inputWidgets": {},
     "nuid": "ee3ee99b-1481-4d9b-a081-77f78d1d9710",
     "showTitle": false,
     "title": ""
    }
   },
   "outputs": [
    {
     "output_type": "display_data",
     "data": {
      "text/html": [
       "<style scoped>\n",
       "  .table-result-container {\n",
       "    max-height: 300px;\n",
       "    overflow: auto;\n",
       "  }\n",
       "  table, th, td {\n",
       "    border: 1px solid black;\n",
       "    border-collapse: collapse;\n",
       "  }\n",
       "  th, td {\n",
       "    padding: 5px;\n",
       "  }\n",
       "  th {\n",
       "    text-align: left;\n",
       "  }\n",
       "</style><div class='table-result-container'><table class='table-result'><thead style='background-color: white'><tr><th>count_of_facilities</th></tr></thead><tbody><tr><td>4</td></tr></tbody></table></div>"
      ]
     },
     "metadata": {
      "application/vnd.databricks.v1+output": {
       "addedWidgets": {},
       "aggData": [],
       "aggError": "",
       "aggOverflow": false,
       "aggSchema": [],
       "aggSeriesLimitReached": false,
       "aggType": "",
       "arguments": {},
       "columnCustomDisplayInfos": {},
       "data": [
        [
         4
        ]
       ],
       "datasetInfos": [],
       "dbfsResultPath": null,
       "isJsonSchema": true,
       "metadata": {},
       "overflow": false,
       "plotOptions": {
        "customPlotOptions": {},
        "displayType": "table",
        "pivotAggregation": null,
        "pivotColumns": null,
        "xColumns": null,
        "yColumns": null
       },
       "removedWidgets": [],
       "schema": [
        {
         "metadata": "{}",
         "name": "count_of_facilities",
         "type": "\"long\""
        }
       ],
       "type": "table"
      }
     },
     "output_type": "display_data"
    }
   ],
   "source": [
    "%sql\n",
    "SELECT COUNT(*) AS count_of_facilities\n",
    "FROM Facilities\n",
    "WHERE membercost = 0"
   ]
  },
  {
   "cell_type": "markdown",
   "metadata": {
    "application/vnd.databricks.v1+cell": {
     "cellMetadata": {},
     "inputWidgets": {},
     "nuid": "d3258b41-52df-4b91-a8a2-ccde490e0528",
     "showTitle": false,
     "title": ""
    }
   },
   "source": [
    "#### Q3: How can you produce a list of facilities that charge a fee to members, where the fee is less than 20% of the facility's monthly maintenance cost? \n",
    "#### Return the facid, facility name, member cost, and monthly maintenance of the facilities in question."
   ]
  },
  {
   "cell_type": "code",
   "execution_count": 0,
   "metadata": {
    "application/vnd.databricks.v1+cell": {
     "cellMetadata": {
      "byteLimit": 2048000,
      "implicitDf": true,
      "rowLimit": 10000
     },
     "inputWidgets": {},
     "nuid": "5a0437ad-a4b6-48ea-adba-b5443c49f112",
     "showTitle": false,
     "title": ""
    }
   },
   "outputs": [
    {
     "output_type": "display_data",
     "data": {
      "text/html": [
       "<style scoped>\n",
       "  .table-result-container {\n",
       "    max-height: 300px;\n",
       "    overflow: auto;\n",
       "  }\n",
       "  table, th, td {\n",
       "    border: 1px solid black;\n",
       "    border-collapse: collapse;\n",
       "  }\n",
       "  th, td {\n",
       "    padding: 5px;\n",
       "  }\n",
       "  th {\n",
       "    text-align: left;\n",
       "  }\n",
       "</style><div class='table-result-container'><table class='table-result'><thead style='background-color: white'><tr><th>facid</th><th>name</th><th>membercost</th><th>monthlymaintenance</th></tr></thead><tbody><tr><td>0</td><td>Tennis Court 1</td><td>5.0</td><td>200</td></tr><tr><td>1</td><td>Tennis Court 2</td><td>5.0</td><td>200</td></tr><tr><td>4</td><td>Massage Room 1</td><td>9.9</td><td>3000</td></tr><tr><td>5</td><td>Massage Room 2</td><td>9.9</td><td>3000</td></tr><tr><td>6</td><td>Squash Court</td><td>3.5</td><td>80</td></tr></tbody></table></div>"
      ]
     },
     "metadata": {
      "application/vnd.databricks.v1+output": {
       "addedWidgets": {},
       "aggData": [],
       "aggError": "",
       "aggOverflow": false,
       "aggSchema": [],
       "aggSeriesLimitReached": false,
       "aggType": "",
       "arguments": {},
       "columnCustomDisplayInfos": {},
       "data": [
        [
         0,
         "Tennis Court 1",
         5.0,
         200
        ],
        [
         1,
         "Tennis Court 2",
         5.0,
         200
        ],
        [
         4,
         "Massage Room 1",
         9.9,
         3000
        ],
        [
         5,
         "Massage Room 2",
         9.9,
         3000
        ],
        [
         6,
         "Squash Court",
         3.5,
         80
        ]
       ],
       "datasetInfos": [],
       "dbfsResultPath": null,
       "isJsonSchema": true,
       "metadata": {},
       "overflow": false,
       "plotOptions": {
        "customPlotOptions": {},
        "displayType": "table",
        "pivotAggregation": null,
        "pivotColumns": null,
        "xColumns": null,
        "yColumns": null
       },
       "removedWidgets": [],
       "schema": [
        {
         "metadata": "{}",
         "name": "facid",
         "type": "\"integer\""
        },
        {
         "metadata": "{}",
         "name": "name",
         "type": "\"string\""
        },
        {
         "metadata": "{}",
         "name": "membercost",
         "type": "\"double\""
        },
        {
         "metadata": "{}",
         "name": "monthlymaintenance",
         "type": "\"integer\""
        }
       ],
       "type": "table"
      }
     },
     "output_type": "display_data"
    }
   ],
   "source": [
    "%sql\n",
    "SELECT facid, name, membercost, monthlymaintenance\n",
    "FROM Facilities\n",
    "WHERE membercost < 0.20 * monthlymaintenance and membercost > 0"
   ]
  },
  {
   "cell_type": "markdown",
   "metadata": {
    "application/vnd.databricks.v1+cell": {
     "cellMetadata": {},
     "inputWidgets": {},
     "nuid": "2c669b7e-ce13-4562-b2a5-c45d243ca05a",
     "showTitle": false,
     "title": ""
    }
   },
   "source": [
    "#### Q4: How can you retrieve the details of facilities with ID 1 and 5? Write the query without using the OR operator."
   ]
  },
  {
   "cell_type": "code",
   "execution_count": 0,
   "metadata": {
    "application/vnd.databricks.v1+cell": {
     "cellMetadata": {
      "byteLimit": 2048000,
      "implicitDf": true,
      "rowLimit": 10000
     },
     "inputWidgets": {},
     "nuid": "4fbd9575-71bf-4781-9784-b10ed3c4d7a3",
     "showTitle": false,
     "title": ""
    }
   },
   "outputs": [
    {
     "output_type": "display_data",
     "data": {
      "text/html": [
       "<style scoped>\n",
       "  .table-result-container {\n",
       "    max-height: 300px;\n",
       "    overflow: auto;\n",
       "  }\n",
       "  table, th, td {\n",
       "    border: 1px solid black;\n",
       "    border-collapse: collapse;\n",
       "  }\n",
       "  th, td {\n",
       "    padding: 5px;\n",
       "  }\n",
       "  th {\n",
       "    text-align: left;\n",
       "  }\n",
       "</style><div class='table-result-container'><table class='table-result'><thead style='background-color: white'><tr><th>facid</th><th>name</th><th>membercost</th><th>guestcost</th><th>initialoutlay</th><th>monthlymaintenance</th></tr></thead><tbody><tr><td>1</td><td>Tennis Court 2</td><td>5.0</td><td>25.0</td><td>8000</td><td>200</td></tr><tr><td>5</td><td>Massage Room 2</td><td>9.9</td><td>80.0</td><td>4000</td><td>3000</td></tr></tbody></table></div>"
      ]
     },
     "metadata": {
      "application/vnd.databricks.v1+output": {
       "addedWidgets": {},
       "aggData": [],
       "aggError": "",
       "aggOverflow": false,
       "aggSchema": [],
       "aggSeriesLimitReached": false,
       "aggType": "",
       "arguments": {},
       "columnCustomDisplayInfos": {},
       "data": [
        [
         1,
         "Tennis Court 2",
         5.0,
         25.0,
         8000,
         200
        ],
        [
         5,
         "Massage Room 2",
         9.9,
         80.0,
         4000,
         3000
        ]
       ],
       "datasetInfos": [],
       "dbfsResultPath": null,
       "isJsonSchema": true,
       "metadata": {},
       "overflow": false,
       "plotOptions": {
        "customPlotOptions": {},
        "displayType": "table",
        "pivotAggregation": null,
        "pivotColumns": null,
        "xColumns": null,
        "yColumns": null
       },
       "removedWidgets": [],
       "schema": [
        {
         "metadata": "{}",
         "name": "facid",
         "type": "\"integer\""
        },
        {
         "metadata": "{}",
         "name": "name",
         "type": "\"string\""
        },
        {
         "metadata": "{}",
         "name": "membercost",
         "type": "\"double\""
        },
        {
         "metadata": "{}",
         "name": "guestcost",
         "type": "\"double\""
        },
        {
         "metadata": "{}",
         "name": "initialoutlay",
         "type": "\"integer\""
        },
        {
         "metadata": "{}",
         "name": "monthlymaintenance",
         "type": "\"integer\""
        }
       ],
       "type": "table"
      }
     },
     "output_type": "display_data"
    }
   ],
   "source": [
    "%sql\n",
    "select * from facilities where facid in (1,5)"
   ]
  },
  {
   "cell_type": "markdown",
   "metadata": {
    "application/vnd.databricks.v1+cell": {
     "cellMetadata": {},
     "inputWidgets": {},
     "nuid": "e5b2ca93-c18b-4445-8228-7fc3991f6acd",
     "showTitle": false,
     "title": ""
    }
   },
   "source": [
    "#### Q5: How can you produce a list of facilities, with each labelled as 'cheap' or 'expensive', depending on if their monthly maintenance cost is more than $100? \n",
    "#### Return the name and monthly maintenance of the facilities in question."
   ]
  },
  {
   "cell_type": "code",
   "execution_count": 0,
   "metadata": {
    "application/vnd.databricks.v1+cell": {
     "cellMetadata": {
      "byteLimit": 2048000,
      "implicitDf": true,
      "rowLimit": 10000
     },
     "inputWidgets": {},
     "nuid": "6d4bfc66-8400-474b-bf71-250f1c9d7415",
     "showTitle": false,
     "title": ""
    }
   },
   "outputs": [
    {
     "output_type": "display_data",
     "data": {
      "text/html": [
       "<style scoped>\n",
       "  .table-result-container {\n",
       "    max-height: 300px;\n",
       "    overflow: auto;\n",
       "  }\n",
       "  table, th, td {\n",
       "    border: 1px solid black;\n",
       "    border-collapse: collapse;\n",
       "  }\n",
       "  th, td {\n",
       "    padding: 5px;\n",
       "  }\n",
       "  th {\n",
       "    text-align: left;\n",
       "  }\n",
       "</style><div class='table-result-container'><table class='table-result'><thead style='background-color: white'><tr><th>name</th><th>monthlymaintenance</th><th>cost_label</th></tr></thead><tbody><tr><td>Tennis Court 1</td><td>200</td><td>expensive</td></tr><tr><td>Tennis Court 2</td><td>200</td><td>expensive</td></tr><tr><td>Badminton Court</td><td>50</td><td>cheap</td></tr><tr><td>Table Tennis</td><td>10</td><td>cheap</td></tr><tr><td>Massage Room 1</td><td>3000</td><td>expensive</td></tr><tr><td>Massage Room 2</td><td>3000</td><td>expensive</td></tr><tr><td>Squash Court</td><td>80</td><td>cheap</td></tr><tr><td>Snooker Table</td><td>15</td><td>cheap</td></tr><tr><td>Pool Table</td><td>15</td><td>cheap</td></tr></tbody></table></div>"
      ]
     },
     "metadata": {
      "application/vnd.databricks.v1+output": {
       "addedWidgets": {},
       "aggData": [],
       "aggError": "",
       "aggOverflow": false,
       "aggSchema": [],
       "aggSeriesLimitReached": false,
       "aggType": "",
       "arguments": {},
       "columnCustomDisplayInfos": {},
       "data": [
        [
         "Tennis Court 1",
         200,
         "expensive"
        ],
        [
         "Tennis Court 2",
         200,
         "expensive"
        ],
        [
         "Badminton Court",
         50,
         "cheap"
        ],
        [
         "Table Tennis",
         10,
         "cheap"
        ],
        [
         "Massage Room 1",
         3000,
         "expensive"
        ],
        [
         "Massage Room 2",
         3000,
         "expensive"
        ],
        [
         "Squash Court",
         80,
         "cheap"
        ],
        [
         "Snooker Table",
         15,
         "cheap"
        ],
        [
         "Pool Table",
         15,
         "cheap"
        ]
       ],
       "datasetInfos": [],
       "dbfsResultPath": null,
       "isJsonSchema": true,
       "metadata": {},
       "overflow": false,
       "plotOptions": {
        "customPlotOptions": {},
        "displayType": "table",
        "pivotAggregation": null,
        "pivotColumns": null,
        "xColumns": null,
        "yColumns": null
       },
       "removedWidgets": [],
       "schema": [
        {
         "metadata": "{}",
         "name": "name",
         "type": "\"string\""
        },
        {
         "metadata": "{}",
         "name": "monthlymaintenance",
         "type": "\"integer\""
        },
        {
         "metadata": "{}",
         "name": "cost_label",
         "type": "\"string\""
        }
       ],
       "type": "table"
      }
     },
     "output_type": "display_data"
    }
   ],
   "source": [
    "%sql\n",
    "SELECT\n",
    "  name,\n",
    "  monthlymaintenance,\n",
    "  CASE\n",
    "    WHEN monthlymaintenance > 100 THEN 'expensive'\n",
    "    ELSE 'cheap'\n",
    "  END AS cost_label\n",
    "FROM Facilities"
   ]
  },
  {
   "cell_type": "markdown",
   "metadata": {
    "application/vnd.databricks.v1+cell": {
     "cellMetadata": {},
     "inputWidgets": {},
     "nuid": "807d89ed-2e24-41d1-ab4d-9b9204206929",
     "showTitle": false,
     "title": ""
    }
   },
   "source": [
    "#### Q6: You'd like to get the first and last name of the last member(s) who signed up. Do not use the LIMIT clause for your solution."
   ]
  },
  {
   "cell_type": "code",
   "execution_count": 0,
   "metadata": {
    "application/vnd.databricks.v1+cell": {
     "cellMetadata": {
      "byteLimit": 2048000,
      "implicitDf": true,
      "rowLimit": 10000
     },
     "inputWidgets": {},
     "nuid": "ce06de73-2643-4ba4-8047-51b8c5406ab3",
     "showTitle": false,
     "title": ""
    }
   },
   "outputs": [
    {
     "output_type": "display_data",
     "data": {
      "text/html": [
       "<style scoped>\n",
       "  .table-result-container {\n",
       "    max-height: 300px;\n",
       "    overflow: auto;\n",
       "  }\n",
       "  table, th, td {\n",
       "    border: 1px solid black;\n",
       "    border-collapse: collapse;\n",
       "  }\n",
       "  th, td {\n",
       "    padding: 5px;\n",
       "  }\n",
       "  th {\n",
       "    text-align: left;\n",
       "  }\n",
       "</style><div class='table-result-container'><table class='table-result'><thead style='background-color: white'><tr><th>firstname</th><th>surname</th></tr></thead><tbody><tr><td>Darren</td><td>Smith</td></tr></tbody></table></div>"
      ]
     },
     "metadata": {
      "application/vnd.databricks.v1+output": {
       "addedWidgets": {},
       "aggData": [],
       "aggError": "",
       "aggOverflow": false,
       "aggSchema": [],
       "aggSeriesLimitReached": false,
       "aggType": "",
       "arguments": {},
       "columnCustomDisplayInfos": {},
       "data": [
        [
         "Darren",
         "Smith"
        ]
       ],
       "datasetInfos": [],
       "dbfsResultPath": null,
       "isJsonSchema": true,
       "metadata": {},
       "overflow": false,
       "plotOptions": {
        "customPlotOptions": {},
        "displayType": "table",
        "pivotAggregation": null,
        "pivotColumns": null,
        "xColumns": null,
        "yColumns": null
       },
       "removedWidgets": [],
       "schema": [
        {
         "metadata": "{}",
         "name": "firstname",
         "type": "\"string\""
        },
        {
         "metadata": "{}",
         "name": "surname",
         "type": "\"string\""
        }
       ],
       "type": "table"
      }
     },
     "output_type": "display_data"
    }
   ],
   "source": [
    "%sql\n",
    "SELECT m.firstname, m.surname\n",
    "FROM Members AS m\n",
    "WHERE m.joindate = (SELECT MAX(joindate) FROM Members)"
   ]
  },
  {
   "cell_type": "markdown",
   "metadata": {
    "application/vnd.databricks.v1+cell": {
     "cellMetadata": {},
     "inputWidgets": {},
     "nuid": "c968e57e-f1ce-4080-a2f1-3f6ee63d8a89",
     "showTitle": false,
     "title": ""
    }
   },
   "source": [
    "####  Q7: How can you produce a list of all members who have used a tennis court?\n",
    "- Include in your output the name of the court, and the name of the member formatted as a single column. \n",
    "- Ensure no duplicate data\n",
    "- Also order by the member name."
   ]
  },
  {
   "cell_type": "code",
   "execution_count": 0,
   "metadata": {
    "application/vnd.databricks.v1+cell": {
     "cellMetadata": {
      "byteLimit": 2048000,
      "implicitDf": true,
      "rowLimit": 10000
     },
     "inputWidgets": {},
     "nuid": "7bfa0669-17b6-4738-bade-94ed09f9b21f",
     "showTitle": false,
     "title": ""
    }
   },
   "outputs": [
    {
     "output_type": "display_data",
     "data": {
      "text/html": [
       "<style scoped>\n",
       "  .table-result-container {\n",
       "    max-height: 300px;\n",
       "    overflow: auto;\n",
       "  }\n",
       "  table, th, td {\n",
       "    border: 1px solid black;\n",
       "    border-collapse: collapse;\n",
       "  }\n",
       "  th, td {\n",
       "    padding: 5px;\n",
       "  }\n",
       "  th {\n",
       "    text-align: left;\n",
       "  }\n",
       "</style><div class='table-result-container'><table class='table-result'><thead style='background-color: white'><tr><th>name</th><th>membername</th></tr></thead><tbody><tr><td>Tennis Court 2</td><td>Anne Baker</td></tr><tr><td>Tennis Court 1</td><td>Anne Baker</td></tr><tr><td>Tennis Court 2</td><td>Burton Tracy</td></tr><tr><td>Tennis Court 1</td><td>Burton Tracy</td></tr><tr><td>Tennis Court 1</td><td>Charles Owen</td></tr><tr><td>Tennis Court 2</td><td>Charles Owen</td></tr><tr><td>Tennis Court 2</td><td>Darren Smith</td></tr><tr><td>Tennis Court 2</td><td>David Farrell</td></tr><tr><td>Tennis Court 1</td><td>David Farrell</td></tr><tr><td>Tennis Court 2</td><td>David Jones</td></tr><tr><td>Tennis Court 1</td><td>David Jones</td></tr><tr><td>Tennis Court 1</td><td>David Pinker</td></tr><tr><td>Tennis Court 1</td><td>Douglas Jones</td></tr><tr><td>Tennis Court 1</td><td>Erica Crumpet</td></tr><tr><td>Tennis Court 1</td><td>Florence Bader</td></tr><tr><td>Tennis Court 2</td><td>Florence Bader</td></tr><tr><td>Tennis Court 2</td><td>GUEST GUEST</td></tr><tr><td>Tennis Court 1</td><td>GUEST GUEST</td></tr><tr><td>Tennis Court 2</td><td>Gerald Butters</td></tr><tr><td>Tennis Court 1</td><td>Gerald Butters</td></tr><tr><td>Tennis Court 2</td><td>Henrietta Rumney</td></tr><tr><td>Tennis Court 1</td><td>Jack Smith</td></tr><tr><td>Tennis Court 2</td><td>Jack Smith</td></tr><tr><td>Tennis Court 2</td><td>Janice Joplette</td></tr><tr><td>Tennis Court 1</td><td>Janice Joplette</td></tr><tr><td>Tennis Court 1</td><td>Jemima Farrell</td></tr><tr><td>Tennis Court 2</td><td>Jemima Farrell</td></tr><tr><td>Tennis Court 1</td><td>Joan Coplin</td></tr><tr><td>Tennis Court 1</td><td>John Hunt</td></tr><tr><td>Tennis Court 2</td><td>John Hunt</td></tr><tr><td>Tennis Court 1</td><td>Matthew Genting</td></tr><tr><td>Tennis Court 2</td><td>Millicent Purview</td></tr><tr><td>Tennis Court 1</td><td>Nancy Dare</td></tr><tr><td>Tennis Court 2</td><td>Nancy Dare</td></tr><tr><td>Tennis Court 1</td><td>Ponder Stibbons</td></tr><tr><td>Tennis Court 2</td><td>Ponder Stibbons</td></tr><tr><td>Tennis Court 2</td><td>Ramnaresh Sarwin</td></tr><tr><td>Tennis Court 1</td><td>Ramnaresh Sarwin</td></tr><tr><td>Tennis Court 1</td><td>Tim Boothe</td></tr><tr><td>Tennis Court 2</td><td>Tim Boothe</td></tr><tr><td>Tennis Court 1</td><td>Tim Rownam</td></tr><tr><td>Tennis Court 2</td><td>Tim Rownam</td></tr><tr><td>Tennis Court 2</td><td>Timothy Baker</td></tr><tr><td>Tennis Court 1</td><td>Timothy Baker</td></tr><tr><td>Tennis Court 2</td><td>Tracy Smith</td></tr><tr><td>Tennis Court 1</td><td>Tracy Smith</td></tr></tbody></table></div>"
      ]
     },
     "metadata": {
      "application/vnd.databricks.v1+output": {
       "addedWidgets": {},
       "aggData": [],
       "aggError": "",
       "aggOverflow": false,
       "aggSchema": [],
       "aggSeriesLimitReached": false,
       "aggType": "",
       "arguments": {},
       "columnCustomDisplayInfos": {},
       "data": [
        [
         "Tennis Court 2",
         "Anne Baker"
        ],
        [
         "Tennis Court 1",
         "Anne Baker"
        ],
        [
         "Tennis Court 2",
         "Burton Tracy"
        ],
        [
         "Tennis Court 1",
         "Burton Tracy"
        ],
        [
         "Tennis Court 1",
         "Charles Owen"
        ],
        [
         "Tennis Court 2",
         "Charles Owen"
        ],
        [
         "Tennis Court 2",
         "Darren Smith"
        ],
        [
         "Tennis Court 2",
         "David Farrell"
        ],
        [
         "Tennis Court 1",
         "David Farrell"
        ],
        [
         "Tennis Court 2",
         "David Jones"
        ],
        [
         "Tennis Court 1",
         "David Jones"
        ],
        [
         "Tennis Court 1",
         "David Pinker"
        ],
        [
         "Tennis Court 1",
         "Douglas Jones"
        ],
        [
         "Tennis Court 1",
         "Erica Crumpet"
        ],
        [
         "Tennis Court 1",
         "Florence Bader"
        ],
        [
         "Tennis Court 2",
         "Florence Bader"
        ],
        [
         "Tennis Court 2",
         "GUEST GUEST"
        ],
        [
         "Tennis Court 1",
         "GUEST GUEST"
        ],
        [
         "Tennis Court 2",
         "Gerald Butters"
        ],
        [
         "Tennis Court 1",
         "Gerald Butters"
        ],
        [
         "Tennis Court 2",
         "Henrietta Rumney"
        ],
        [
         "Tennis Court 1",
         "Jack Smith"
        ],
        [
         "Tennis Court 2",
         "Jack Smith"
        ],
        [
         "Tennis Court 2",
         "Janice Joplette"
        ],
        [
         "Tennis Court 1",
         "Janice Joplette"
        ],
        [
         "Tennis Court 1",
         "Jemima Farrell"
        ],
        [
         "Tennis Court 2",
         "Jemima Farrell"
        ],
        [
         "Tennis Court 1",
         "Joan Coplin"
        ],
        [
         "Tennis Court 1",
         "John Hunt"
        ],
        [
         "Tennis Court 2",
         "John Hunt"
        ],
        [
         "Tennis Court 1",
         "Matthew Genting"
        ],
        [
         "Tennis Court 2",
         "Millicent Purview"
        ],
        [
         "Tennis Court 1",
         "Nancy Dare"
        ],
        [
         "Tennis Court 2",
         "Nancy Dare"
        ],
        [
         "Tennis Court 1",
         "Ponder Stibbons"
        ],
        [
         "Tennis Court 2",
         "Ponder Stibbons"
        ],
        [
         "Tennis Court 2",
         "Ramnaresh Sarwin"
        ],
        [
         "Tennis Court 1",
         "Ramnaresh Sarwin"
        ],
        [
         "Tennis Court 1",
         "Tim Boothe"
        ],
        [
         "Tennis Court 2",
         "Tim Boothe"
        ],
        [
         "Tennis Court 1",
         "Tim Rownam"
        ],
        [
         "Tennis Court 2",
         "Tim Rownam"
        ],
        [
         "Tennis Court 2",
         "Timothy Baker"
        ],
        [
         "Tennis Court 1",
         "Timothy Baker"
        ],
        [
         "Tennis Court 2",
         "Tracy Smith"
        ],
        [
         "Tennis Court 1",
         "Tracy Smith"
        ]
       ],
       "datasetInfos": [],
       "dbfsResultPath": null,
       "isJsonSchema": true,
       "metadata": {},
       "overflow": false,
       "plotOptions": {
        "customPlotOptions": {},
        "displayType": "table",
        "pivotAggregation": null,
        "pivotColumns": null,
        "xColumns": null,
        "yColumns": null
       },
       "removedWidgets": [],
       "schema": [
        {
         "metadata": "{}",
         "name": "name",
         "type": "\"string\""
        },
        {
         "metadata": "{}",
         "name": "membername",
         "type": "\"string\""
        }
       ],
       "type": "table"
      }
     },
     "output_type": "display_data"
    }
   ],
   "source": [
    "%sql\n",
    "select distinct facilities.name,  concat_ws(' ', members.firstname, members.surname) as membername \n",
    "from bookings\n",
    "inner join facilities on bookings.facid = facilities.facid \n",
    "inner join members on bookings.memid = members.memid \n",
    "where facilities.name like 'Tennis%'\n",
    "order by membername"
   ]
  },
  {
   "cell_type": "markdown",
   "metadata": {
    "application/vnd.databricks.v1+cell": {
     "cellMetadata": {},
     "inputWidgets": {},
     "nuid": "b0ae0a10-79ce-4c4c-a19d-168e202dbb09",
     "showTitle": false,
     "title": ""
    }
   },
   "source": [
    "#### Q8: How can you produce a list of bookings on the day of 2012-09-14 which will cost the member (or guest) more than $30? \n",
    "\n",
    "- Remember that guests have different costs to members (the listed costs are per half-hour 'slot')\n",
    "- The guest user's ID is always 0. \n",
    "\n",
    "#### Include in your output the name of the facility, the name of the member formatted as a single column, and the cost.\n",
    "\n",
    "- Order by descending cost, and do not use any subqueries."
   ]
  },
  {
   "cell_type": "code",
   "execution_count": 0,
   "metadata": {
    "application/vnd.databricks.v1+cell": {
     "cellMetadata": {
      "byteLimit": 2048000,
      "implicitDf": true,
      "rowLimit": 10000
     },
     "inputWidgets": {},
     "nuid": "142dabb4-3767-47a6-865d-f24e295d6f29",
     "showTitle": false,
     "title": ""
    }
   },
   "outputs": [
    {
     "output_type": "display_data",
     "data": {
      "text/html": [
       "<style scoped>\n",
       "  .table-result-container {\n",
       "    max-height: 300px;\n",
       "    overflow: auto;\n",
       "  }\n",
       "  table, th, td {\n",
       "    border: 1px solid black;\n",
       "    border-collapse: collapse;\n",
       "  }\n",
       "  th, td {\n",
       "    padding: 5px;\n",
       "  }\n",
       "  th {\n",
       "    text-align: left;\n",
       "  }\n",
       "</style><div class='table-result-container'><table class='table-result'><thead style='background-color: white'><tr><th>facility_name</th><th>member_name</th><th>cost</th></tr></thead><tbody><tr><td>Massage Room 2</td><td>GUEST GUEST</td><td>320.0</td></tr><tr><td>Massage Room 1</td><td>GUEST GUEST</td><td>160.0</td></tr><tr><td>Massage Room 1</td><td>GUEST GUEST</td><td>160.0</td></tr><tr><td>Massage Room 1</td><td>GUEST GUEST</td><td>160.0</td></tr><tr><td>Tennis Court 2</td><td>GUEST GUEST</td><td>150.0</td></tr><tr><td>Tennis Court 1</td><td>GUEST GUEST</td><td>75.0</td></tr><tr><td>Tennis Court 1</td><td>GUEST GUEST</td><td>75.0</td></tr><tr><td>Tennis Court 2</td><td>GUEST GUEST</td><td>75.0</td></tr><tr><td>Squash Court</td><td>GUEST GUEST</td><td>70.0</td></tr><tr><td>Massage Room 1</td><td>Jemima Farrell</td><td>39.6</td></tr><tr><td>Squash Court</td><td>GUEST GUEST</td><td>35.0</td></tr><tr><td>Squash Court</td><td>GUEST GUEST</td><td>35.0</td></tr></tbody></table></div>"
      ]
     },
     "metadata": {
      "application/vnd.databricks.v1+output": {
       "addedWidgets": {},
       "aggData": [],
       "aggError": "",
       "aggOverflow": false,
       "aggSchema": [],
       "aggSeriesLimitReached": false,
       "aggType": "",
       "arguments": {},
       "columnCustomDisplayInfos": {},
       "data": [
        [
         "Massage Room 2",
         "GUEST GUEST",
         320.0
        ],
        [
         "Massage Room 1",
         "GUEST GUEST",
         160.0
        ],
        [
         "Massage Room 1",
         "GUEST GUEST",
         160.0
        ],
        [
         "Massage Room 1",
         "GUEST GUEST",
         160.0
        ],
        [
         "Tennis Court 2",
         "GUEST GUEST",
         150.0
        ],
        [
         "Tennis Court 1",
         "GUEST GUEST",
         75.0
        ],
        [
         "Tennis Court 1",
         "GUEST GUEST",
         75.0
        ],
        [
         "Tennis Court 2",
         "GUEST GUEST",
         75.0
        ],
        [
         "Squash Court",
         "GUEST GUEST",
         70.0
        ],
        [
         "Massage Room 1",
         "Jemima Farrell",
         39.6
        ],
        [
         "Squash Court",
         "GUEST GUEST",
         35.0
        ],
        [
         "Squash Court",
         "GUEST GUEST",
         35.0
        ]
       ],
       "datasetInfos": [],
       "dbfsResultPath": null,
       "isJsonSchema": true,
       "metadata": {},
       "overflow": false,
       "plotOptions": {
        "customPlotOptions": {},
        "displayType": "table",
        "pivotAggregation": null,
        "pivotColumns": null,
        "xColumns": null,
        "yColumns": null
       },
       "removedWidgets": [],
       "schema": [
        {
         "metadata": "{}",
         "name": "facility_name",
         "type": "\"string\""
        },
        {
         "metadata": "{}",
         "name": "member_name",
         "type": "\"string\""
        },
        {
         "metadata": "{}",
         "name": "cost",
         "type": "\"double\""
        }
       ],
       "type": "table"
      }
     },
     "output_type": "display_data"
    }
   ],
   "source": [
    "%sql\n",
    "SELECT\n",
    "    f.name AS facility_name,\n",
    "    CONCAT(m.firstname, ' ', m.surname) AS member_name,\n",
    "    CASE\n",
    "        WHEN b.memid = 0 THEN b.slots * f.guestcost\n",
    "        ELSE b.slots * f.membercost\n",
    "    END AS cost\n",
    "FROM Bookings AS b\n",
    "JOIN Members AS m ON b.memid = m.memid\n",
    "JOIN Facilities AS f ON b.facid = f.facid\n",
    "WHERE DATE(b.starttime) = '2012-09-14'\n",
    "  AND (\n",
    "    (b.memid = 0 AND b.slots * f.guestcost > 30) OR\n",
    "    (b.memid != 0 AND b.slots * f.membercost > 30)\n",
    "  )\n",
    "ORDER BY cost DESC"
   ]
  },
  {
   "cell_type": "markdown",
   "metadata": {
    "application/vnd.databricks.v1+cell": {
     "cellMetadata": {},
     "inputWidgets": {},
     "nuid": "acff9b50-5b9a-47d4-b2a4-0f8f6675befe",
     "showTitle": false,
     "title": ""
    }
   },
   "source": [
    "#### Q9: This time, produce the same result as in Q8, but using a subquery."
   ]
  },
  {
   "cell_type": "code",
   "execution_count": 0,
   "metadata": {
    "application/vnd.databricks.v1+cell": {
     "cellMetadata": {
      "byteLimit": 2048000,
      "implicitDf": true,
      "rowLimit": 10000
     },
     "inputWidgets": {},
     "nuid": "9ed7da25-9e58-4e3b-85d4-157db8022f2a",
     "showTitle": false,
     "title": ""
    }
   },
   "outputs": [
    {
     "output_type": "display_data",
     "data": {
      "text/html": [
       "<style scoped>\n",
       "  .table-result-container {\n",
       "    max-height: 300px;\n",
       "    overflow: auto;\n",
       "  }\n",
       "  table, th, td {\n",
       "    border: 1px solid black;\n",
       "    border-collapse: collapse;\n",
       "  }\n",
       "  th, td {\n",
       "    padding: 5px;\n",
       "  }\n",
       "  th {\n",
       "    text-align: left;\n",
       "  }\n",
       "</style><div class='table-result-container'><table class='table-result'><thead style='background-color: white'><tr><th>facility_name</th><th>member_name</th><th>total_cost</th></tr></thead><tbody><tr><td>Massage Room 2</td><td>GUEST GUEST</td><td>320.0</td></tr><tr><td>Massage Room 1</td><td>GUEST GUEST</td><td>160.0</td></tr><tr><td>Massage Room 1</td><td>GUEST GUEST</td><td>160.0</td></tr><tr><td>Massage Room 1</td><td>GUEST GUEST</td><td>160.0</td></tr><tr><td>Tennis Court 2</td><td>GUEST GUEST</td><td>150.0</td></tr><tr><td>Tennis Court 1</td><td>GUEST GUEST</td><td>75.0</td></tr><tr><td>Tennis Court 1</td><td>GUEST GUEST</td><td>75.0</td></tr><tr><td>Tennis Court 2</td><td>GUEST GUEST</td><td>75.0</td></tr><tr><td>Squash Court</td><td>GUEST GUEST</td><td>70.0</td></tr><tr><td>Massage Room 1</td><td>Jemima Farrell</td><td>39.6</td></tr><tr><td>Squash Court</td><td>GUEST GUEST</td><td>35.0</td></tr><tr><td>Squash Court</td><td>GUEST GUEST</td><td>35.0</td></tr></tbody></table></div>"
      ]
     },
     "metadata": {
      "application/vnd.databricks.v1+output": {
       "addedWidgets": {},
       "aggData": [],
       "aggError": "",
       "aggOverflow": false,
       "aggSchema": [],
       "aggSeriesLimitReached": false,
       "aggType": "",
       "arguments": {},
       "columnCustomDisplayInfos": {},
       "data": [
        [
         "Massage Room 2",
         "GUEST GUEST",
         320.0
        ],
        [
         "Massage Room 1",
         "GUEST GUEST",
         160.0
        ],
        [
         "Massage Room 1",
         "GUEST GUEST",
         160.0
        ],
        [
         "Massage Room 1",
         "GUEST GUEST",
         160.0
        ],
        [
         "Tennis Court 2",
         "GUEST GUEST",
         150.0
        ],
        [
         "Tennis Court 1",
         "GUEST GUEST",
         75.0
        ],
        [
         "Tennis Court 1",
         "GUEST GUEST",
         75.0
        ],
        [
         "Tennis Court 2",
         "GUEST GUEST",
         75.0
        ],
        [
         "Squash Court",
         "GUEST GUEST",
         70.0
        ],
        [
         "Massage Room 1",
         "Jemima Farrell",
         39.6
        ],
        [
         "Squash Court",
         "GUEST GUEST",
         35.0
        ],
        [
         "Squash Court",
         "GUEST GUEST",
         35.0
        ]
       ],
       "datasetInfos": [],
       "dbfsResultPath": null,
       "isJsonSchema": true,
       "metadata": {},
       "overflow": false,
       "plotOptions": {
        "customPlotOptions": {},
        "displayType": "table",
        "pivotAggregation": null,
        "pivotColumns": null,
        "xColumns": null,
        "yColumns": null
       },
       "removedWidgets": [],
       "schema": [
        {
         "metadata": "{}",
         "name": "facility_name",
         "type": "\"string\""
        },
        {
         "metadata": "{}",
         "name": "member_name",
         "type": "\"string\""
        },
        {
         "metadata": "{}",
         "name": "total_cost",
         "type": "\"double\""
        }
       ],
       "type": "table"
      }
     },
     "output_type": "display_data"
    }
   ],
   "source": [
    "%sql\n",
    "SELECT\n",
    "    subquery.facility_name,\n",
    "    CONCAT(m.firstname, ' ', m.surname) AS member_name,\n",
    "    subquery.cost AS total_cost\n",
    "FROM (\n",
    "    SELECT\n",
    "        b.memid,\n",
    "        b.facid,\n",
    "        CASE\n",
    "            WHEN b.memid = 0 THEN b.slots * f.guestcost\n",
    "            ELSE b.slots * f.membercost\n",
    "        END AS cost,\n",
    "        f.name AS facility_name\n",
    "    FROM Bookings AS b\n",
    "    JOIN Facilities AS f ON b.facid = f.facid\n",
    "    WHERE DATE(b.starttime) = '2012-09-14'\n",
    ") AS subquery\n",
    "JOIN Members AS m ON subquery.memid = m.memid\n",
    "WHERE subquery.cost > 30\n",
    "ORDER BY subquery.cost DESC\n"
   ]
  },
  {
   "cell_type": "markdown",
   "metadata": {
    "application/vnd.databricks.v1+cell": {
     "cellMetadata": {},
     "inputWidgets": {},
     "nuid": "34a65848-85b2-4bd2-9944-3045b7677127",
     "showTitle": false,
     "title": ""
    }
   },
   "source": [
    "#### Q10: Produce a list of facilities with a total revenue less than 1000.\n",
    "- The output should have facility name and total revenue, sorted by revenue. \n",
    "- Remember that there's a different cost for guests and members!"
   ]
  },
  {
   "cell_type": "code",
   "execution_count": 0,
   "metadata": {
    "application/vnd.databricks.v1+cell": {
     "cellMetadata": {
      "byteLimit": 2048000,
      "implicitDf": true,
      "rowLimit": 10000
     },
     "inputWidgets": {},
     "nuid": "ae3e64e4-0fb6-46f7-8956-5e23fc370218",
     "showTitle": false,
     "title": ""
    }
   },
   "outputs": [
    {
     "output_type": "display_data",
     "data": {
      "text/html": [
       "<style scoped>\n",
       "  .table-result-container {\n",
       "    max-height: 300px;\n",
       "    overflow: auto;\n",
       "  }\n",
       "  table, th, td {\n",
       "    border: 1px solid black;\n",
       "    border-collapse: collapse;\n",
       "  }\n",
       "  th, td {\n",
       "    padding: 5px;\n",
       "  }\n",
       "  th {\n",
       "    text-align: left;\n",
       "  }\n",
       "</style><div class='table-result-container'><table class='table-result'><thead style='background-color: white'><tr><th>facility_name</th><th>total_revenue</th></tr></thead><tbody><tr><td>Table Tennis</td><td>180.0</td></tr><tr><td>Snooker Table</td><td>240.0</td></tr><tr><td>Pool Table</td><td>270.0</td></tr></tbody></table></div>"
      ]
     },
     "metadata": {
      "application/vnd.databricks.v1+output": {
       "addedWidgets": {},
       "aggData": [],
       "aggError": "",
       "aggOverflow": false,
       "aggSchema": [],
       "aggSeriesLimitReached": false,
       "aggType": "",
       "arguments": {},
       "columnCustomDisplayInfos": {},
       "data": [
        [
         "Table Tennis",
         180.0
        ],
        [
         "Snooker Table",
         240.0
        ],
        [
         "Pool Table",
         270.0
        ]
       ],
       "datasetInfos": [],
       "dbfsResultPath": null,
       "isJsonSchema": true,
       "metadata": {},
       "overflow": false,
       "plotOptions": {
        "customPlotOptions": {},
        "displayType": "table",
        "pivotAggregation": null,
        "pivotColumns": null,
        "xColumns": null,
        "yColumns": null
       },
       "removedWidgets": [],
       "schema": [
        {
         "metadata": "{}",
         "name": "facility_name",
         "type": "\"string\""
        },
        {
         "metadata": "{}",
         "name": "total_revenue",
         "type": "\"double\""
        }
       ],
       "type": "table"
      }
     },
     "output_type": "display_data"
    }
   ],
   "source": [
    "%sql\n",
    "SELECT\n",
    "    f.name AS facility_name,\n",
    "    SUM(CASE\n",
    "        WHEN b.memid = 0 THEN b.slots * f.guestcost\n",
    "        ELSE b.slots * f.membercost\n",
    "    END) AS total_revenue\n",
    "FROM Facilities AS f\n",
    "LEFT JOIN Bookings AS b ON f.facid = b.facid\n",
    "GROUP BY f.name\n",
    "HAVING total_revenue < 1000\n",
    "ORDER BY total_revenue"
   ]
  },
  {
   "cell_type": "code",
   "execution_count": 0,
   "metadata": {
    "application/vnd.databricks.v1+cell": {
     "cellMetadata": {},
     "inputWidgets": {},
     "nuid": "cc9a8756-bfe9-4d96-baa3-628753273363",
     "showTitle": false,
     "title": ""
    }
   },
   "outputs": [],
   "source": []
  }
 ],
 "metadata": {
  "application/vnd.databricks.v1+notebook": {
   "dashboards": [],
   "language": "python",
   "notebookMetadata": {
    "mostRecentlyExecutedCommandWithImplicitDF": {
     "commandId": 4025938456485764,
     "dataframes": [
      "_sqldf"
     ]
    },
    "pythonIndentUnit": 4
   },
   "notebookName": "Mini_Project_SQL_with_Spark",
   "widgets": {}
  },
  "name": "Mini_Project_SQL_with_Spark",
  "notebookId": 1931807081501742
 },
 "nbformat": 4,
 "nbformat_minor": 0
}
